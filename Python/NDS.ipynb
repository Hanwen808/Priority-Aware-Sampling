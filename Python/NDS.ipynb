{
 "cells": [
  {
   "cell_type": "code",
   "execution_count": 1,
   "metadata": {
    "ExecuteTime": {
     "end_time": "2024-03-20T12:39:08.487024Z",
     "start_time": "2024-03-20T12:39:08.063207Z"
    }
   },
   "outputs": [],
   "source": [
    "import mmh3\n",
    "import numpy as np\n",
    "import pandas as pd\n",
    "import math\n",
    "from collections import defaultdict\n",
    "import matplotlib.pyplot as plt\n",
    "from tqdm import tqdm"
   ]
  },
  {
   "cell_type": "code",
   "execution_count": 2,
   "metadata": {
    "ExecuteTime": {
     "end_time": "2024-03-20T12:39:08.497826Z",
     "start_time": "2024-03-20T12:39:08.488697Z"
    }
   },
   "outputs": [],
   "source": [
    "N = 1000000\n",
    "max_priority = 7\n",
    "mea_T = 0\n",
    "color_table = ['red', 'green', 'blue', 'c', 'pink', 'purple', 'orange', 'crimson', 'skyblue', 'chocolate', 'violet', 'navy']\n",
    "color_lst = [color_table[i] for i in range(max_priority)]\n",
    "high_prior_flows = set([6,7])\n",
    "mediumn_prior_flows = set([])\n",
    "low_prior_flows = set([1,2,3,4,5])\n",
    "import math\n",
    "class NDS:\n",
    "    '''\n",
    "        -prob: 无重采样的概率\n",
    "        -m: 无重采样片上bloom filter的大小\n",
    "        -N: 总共的无重元素数目,需要通过FM sketch或者预先设置一个大值处理\n",
    "    '''\n",
    "    def __init__(self, prob, m):\n",
    "        self.prob = prob\n",
    "        self.pre_rate = prob\n",
    "        self.m = m\n",
    "        self.c = 0                        #  记录B中1比特的数目\n",
    "        self.k = 1 #math.ceil(np.log(2) * (m / N)) # 最优哈希函数数目\n",
    "        self.B = np.zeros(shape = (self.m,), dtype = np.int32)\n",
    "        self.hash_seeds = [ np.random.randint(i * 10000, (i + 1) * 10000) for i in range(self.k)]\n",
    "        self.sample_seed = 34324\n",
    "        self.hash_table = {}\n",
    "        self.hash_collsions = {}\n",
    "        self.downloads = 0\n",
    "        for i in range(1, max_priority + 1):\n",
    "            self.hash_table[i] = defaultdict(int)\n",
    "            self.hash_collsions[i] = defaultdict(set)\n",
    "        print(\"空间占用:{}KB.\".format(m / 8 / 1024))\n",
    "    \n",
    "    def update(self, src, dst, p):\n",
    "        # 原文中无论如何都会进入第二阶段, 因此第一阶段的预采样就是判断是否加入到片下哈希表\n",
    "        # 所以先对bloom filter进行置位操作\n",
    "        flag = False # 假设该元素是重复元素\n",
    "        for i in range(self.k):\n",
    "            idx = mmh3.hash(src + dst, seed = self.hash_seeds[i]) % self.m\n",
    "            self.hash_collsions[p][src + \"+\" + dst].add(idx) # 测试哈希冲突\n",
    "            if self.B[idx] == 0:\n",
    "                self.B[idx] = 1\n",
    "                self.c += 1\n",
    "                flag = True # 该元素为非重复元素\n",
    "        if flag == True:\n",
    "            if mmh3.hash(src + dst, seed = self.sample_seed) % 0xffffffff <= self.pre_rate * 0xffffffff:\n",
    "                self.hash_table[p][src] += 1\n",
    "                self.downloads += 1\n",
    "                self.pre_rate = self.prob / (1 - (self.c / self.m) ** self.k)\n",
    "    \n",
    "    def estimate(self, src):\n",
    "        for i in range(1, max_priority + 1):\n",
    "            if src in self.hash_table[i]:\n",
    "                return int(self.hash_table[i][src] / self.prob)\n",
    "        else:\n",
    "            return 0"
   ]
  },
  {
   "cell_type": "code",
   "execution_count": 3,
   "metadata": {
    "ExecuteTime": {
     "end_time": "2024-03-20T12:39:17.678867Z",
     "start_time": "2024-03-20T12:39:08.499614Z"
    }
   },
   "outputs": [
    {
     "name": "stderr",
     "output_type": "stream",
     "text": [
      "  2%|▏         | 16911/907463 [00:00<00:10, 86220.33it/s] "
     ]
    },
    {
     "name": "stdout",
     "output_type": "stream",
     "text": [
      "空间占用:50.0KB.\n"
     ]
    },
    {
     "name": "stderr",
     "output_type": "stream",
     "text": [
      "100%|██████████| 907463/907463 [00:08<00:00, 105935.22it/s]\n"
     ]
    },
    {
     "name": "stdout",
     "output_type": "stream",
     "text": [
      "nds总共下载99119个元素.\n",
      "0.89114013671875\n"
     ]
    }
   ],
   "source": [
    "filename = \"./CAIDA 2016/00_7.txt\"\n",
    "f = open(filename, 'r')\n",
    "datas = f.readlines()\n",
    "test_keys = set([])\n",
    "real_set_spread = {}\n",
    "real_spread = {}\n",
    "for i in range(1, max_priority + 1):\n",
    "    real_spread[i] = defaultdict(int)\n",
    "    real_set_spread[i] = defaultdict(set)\n",
    "N = len(datas)\n",
    "nds = NDS(0.109, 50 * 1024 * 8)\n",
    "for row in tqdm(datas):\n",
    "    src, dst, p = row.split()\n",
    "    p = int(p)\n",
    "    nds.update(src, dst, p)\n",
    "    real_set_spread[p][src].add(dst)\n",
    "print(\"nds总共下载{}个元素.\".format(nds.downloads))\n",
    "for i in range(1, max_priority + 1):\n",
    "    for key in real_set_spread[i]:\n",
    "        if len(real_set_spread[i][key]) >= mea_T:\n",
    "            real_spread[i][key] = len(real_set_spread[i][key])\n",
    "            test_keys.add(key)\n",
    "f.close()\n",
    "print(nds.c / nds.m)"
   ]
  },
  {
   "cell_type": "code",
   "execution_count": 4,
   "metadata": {
    "ExecuteTime": {
     "end_time": "2024-03-20T12:39:22.371832Z",
     "start_time": "2024-03-20T12:39:17.680541Z"
    }
   },
   "outputs": [
    {
     "name": "stderr",
     "output_type": "stream",
     "text": [
      "100%|██████████| 907463/907463 [00:01<00:00, 463135.26it/s]\n",
      "/home/tmp/anaconda3/lib/python3.7/site-packages/ipykernel_launcher.py:51: RuntimeWarning: divide by zero encountered in log10\n",
      "/home/tmp/anaconda3/lib/python3.7/site-packages/ipykernel_launcher.py:51: RuntimeWarning: divide by zero encountered in log10\n",
      "/home/tmp/anaconda3/lib/python3.7/site-packages/ipykernel_launcher.py:51: RuntimeWarning: divide by zero encountered in log10\n",
      "/home/tmp/anaconda3/lib/python3.7/site-packages/ipykernel_launcher.py:51: RuntimeWarning: divide by zero encountered in log10\n",
      "/home/tmp/anaconda3/lib/python3.7/site-packages/ipykernel_launcher.py:51: RuntimeWarning: divide by zero encountered in log10\n",
      "/home/tmp/anaconda3/lib/python3.7/site-packages/ipykernel_launcher.py:51: RuntimeWarning: divide by zero encountered in log10\n",
      "/home/tmp/anaconda3/lib/python3.7/site-packages/ipykernel_launcher.py:51: RuntimeWarning: divide by zero encountered in log10\n"
     ]
    },
    {
     "data": {
      "image/png": "[encoded data removed]",
      "text/plain": [
       "<Figure size 640x480 with 1 Axes>"
      ]
     },
     "metadata": {},
     "output_type": "display_data"
    }
   ],
   "source": [
    "are = 0\n",
    "flow_count = 0\n",
    "estimate_spread = {}\n",
    "are_dict = {}\n",
    "class_are_dict = {'low':0, 'high':0, 'med':0}\n",
    "flow_count_dict = {}\n",
    "fine_are_dict = {}\n",
    "flow_count_p = {'low':0, 'high':0, 'med':0}\n",
    "for i in range(1, max_priority + 1):\n",
    "    flow_count_dict[i] = 0\n",
    "    fine_are_dict[i] = {}\n",
    "    for j in range(0, 7, 1):\n",
    "        fine_are_dict[i][j] = 0\n",
    "for i in range(1, max_priority + 1):\n",
    "    are_dict[i] = 0\n",
    "    estimate_spread[i] = defaultdict(int)\n",
    "for row in tqdm(datas):\n",
    "    src, dst, p = row.split()\n",
    "    p = int(p)\n",
    "    temp_v = nds.estimate(src)\n",
    "    if src in test_keys:\n",
    "        estimate_spread[p][src] = temp_v\n",
    "for i in range(1, max_priority + 1):\n",
    "    x_log, y_log = [], []\n",
    "    temp_range_count = defaultdict(int)\n",
    "    for src in real_spread[i]:\n",
    "        temp_v = abs(real_spread[i][src] - estimate_spread[i][src]) / real_spread[i][src]\n",
    "        are += temp_v\n",
    "        flow_count += 1\n",
    "        are_dict[i] += temp_v\n",
    "        flow_count_dict[i] += 1\n",
    "        temp_range_count[int(round(math.log10(real_spread[i][src])))] += 1\n",
    "        fine_are_dict[i][int(round(math.log10(real_spread[i][src])))] += temp_v\n",
    "        if i in high_prior_flows:\n",
    "            class_are_dict['high'] += temp_v\n",
    "            flow_count_p['high'] += 1\n",
    "        elif i in mediumn_prior_flows:\n",
    "            class_are_dict['med'] += temp_v\n",
    "            flow_count_p['med'] += 1\n",
    "        elif i in  low_prior_flows:\n",
    "            class_are_dict['low'] += temp_v\n",
    "            flow_count_p['low'] += 1\n",
    "        x_log.append(real_spread[i][src])\n",
    "        y_log.append(estimate_spread[i][src])\n",
    "    for j in range(0, 7):\n",
    "        if temp_range_count[j] == 0:\n",
    "            fine_are_dict[i][j] = 0\n",
    "        else:\n",
    "            fine_are_dict[i][j] = fine_are_dict[i][j] / temp_range_count[j]\n",
    "    x_log = np.log10(x_log)\n",
    "    y_log = np.log10(y_log)\n",
    "    plt.plot(x_log, y_log, '*', color = color_lst[i - 1], label = str(i) + \"-priority flow\")\n",
    "class_are_dict['low'] = class_are_dict['low'] / flow_count_p['low'] if flow_count_p['low'] != 0 else None\n",
    "class_are_dict['med'] = class_are_dict['med'] / flow_count_p['med'] if flow_count_p['med'] != 0 else None\n",
    "class_are_dict['high'] = class_are_dict['high'] / flow_count_p['high'] if flow_count_p['high'] != 0 else None\n",
    "for i in range(1, max_priority + 1):\n",
    "    are_dict[i] = are_dict[i] / flow_count_dict[i] if flow_count_dict[i] != 0 else None\n",
    "x = np.arange(math.log10(mea_T) if mea_T != 0 else 0, 7, 1)\n",
    "plt.plot(x, x)\n",
    "plt.legend()\n",
    "plt.xlabel(\"Real spreads\")\n",
    "plt.ylabel(\"Estimated spreads\")\n",
    "#plt.title(\"Non-duplicate sampling\")\n",
    "plt.tight_layout()\n",
    "plt.savefig(\"NDS_100KB.jpg\")\n",
    "plt.show()"
   ]
  },
  {
   "cell_type": "code",
   "execution_count": 5,
   "metadata": {
    "ExecuteTime": {
     "end_time": "2024-03-20T12:39:22.377813Z",
     "start_time": "2024-03-20T12:39:22.373158Z"
    }
   },
   "outputs": [
    {
     "name": "stdout",
     "output_type": "stream",
     "text": [
      "[Message] 第1优先级流的are信息如下:\n",
      "  第0个区间内的are为1.7347648132989106\n",
      "  第1个区间内的are为0.985553746118975\n",
      "  第2个区间内的are为0.28094346198332476\n",
      "[Message] 第2优先级流的are信息如下:\n",
      "  第0个区间内的are为1.7333270357075383\n",
      "  第1个区间内的are为0.9909893455618831\n",
      "  第2个区间内的are为0.3061349793081912\n",
      "  第3个区间内的are为0.01978173330490984\n",
      "  第4个区间内的are为0.006467582242095178\n",
      "[Message] 第3优先级流的are信息如下:\n",
      "  第0个区间内的are为1.7555969682567476\n",
      "  第1个区间内的are为0.9862919356958868\n",
      "  第2个区间内的are为0.31767400079645436\n",
      "  第3个区间内的are为0.09514925373134328\n",
      "  第4个区间内的are为0.0030668966839179604\n",
      "[Message] 第4优先级流的are信息如下:\n",
      "  第0个区间内的are为1.7342703560098696\n",
      "  第1个区间内的are为0.9781012884904967\n",
      "  第2个区间内的are为0.26870220687299484\n",
      "  第3个区间内的are为0.057841363407179415\n",
      "[Message] 第5优先级流的are信息如下:\n",
      "  第0个区间内的are为1.7305130997534017\n",
      "  第1个区间内的are为0.9900692318248265\n",
      "  第2个区间内的are为0.3001928713710735\n",
      "  第3个区间内的are为0.010968921389396709\n",
      "  第4个区间内的are为0.00887177770338132\n",
      "[Message] 第6优先级流的are信息如下:\n",
      "  第0个区间内的are为1.7435873466945857\n",
      "  第1个区间内的are为0.9805013798310135\n",
      "  第2个区间内的are为0.31782911634413896\n",
      "  第3个区间内的are为0.1606707278620707\n",
      "[Message] 第7优先级流的are信息如下:\n",
      "  第0个区间内的are为1.7261337432744044\n",
      "  第1个区间内的are为0.9811423112637858\n",
      "  第2个区间内的are为0.25640665316072714\n",
      "  第3个区间内的are为0.08285046259018224\n",
      "  第4个区间内的are为0.00667758598966864\n",
      "{1: 1.7081680200463758, 2: 1.7078594177542725, 3: 1.7285178632876255, 4: 1.7068235699817564, 5: 1.7037048169157918, 6: 1.71638278916294, 7: 1.6990445490804336}\n",
      "{'low': 1.7110279518310645, 'high': 1.707163467406922, 'med': None}\n",
      "1.709864753421408\n"
     ]
    }
   ],
   "source": [
    "for i in range(1, max_priority + 1):\n",
    "    print(\"[Message] 第{}优先级流的are信息如下:\".format(i))\n",
    "    for j in range(0, 7, 1):\n",
    "        if fine_are_dict[i][j] != 0:\n",
    "            print(\"  第{}个区间内的are为{}\".format(j, fine_are_dict[i][j]))\n",
    "print(are_dict)\n",
    "print(class_are_dict)\n",
    "print(are / flow_count)"
   ]
  },
  {
   "cell_type": "code",
   "execution_count": 6,
   "metadata": {
    "ExecuteTime": {
     "end_time": "2024-03-20T12:39:26.521570Z",
     "start_time": "2024-03-20T12:39:22.380478Z"
    }
   },
   "outputs": [
    {
     "name": "stdout",
     "output_type": "stream",
     "text": [
      "类内哈希冲突:\n",
      "{1: 15961, 2: 20461, 3: 17927, 4: 16918, 5: 18043, 6: 16598, 7: 24266}\n",
      "类间哈希冲突:\n",
      "{1: 199916, 2: 218783, 3: 208777, 4: 204860, 5: 208364, 6: 204023, 7: 232100}\n"
     ]
    }
   ],
   "source": [
    "cluster_inner = {}\n",
    "cluster_outer = {}\n",
    "idx_pkt_table = {}\n",
    "for i in range(1, max_priority + 1):\n",
    "    cluster_inner[i] = 0\n",
    "    cluster_outer[i] = 0\n",
    "    idx_pkt_table[i] = defaultdict(set)\n",
    "\n",
    "for i in range(1, max_priority + 1):\n",
    "    for pkt in nds.hash_collsions[i]:\n",
    "        idx_lst_ = sorted(nds.hash_collsions[i][pkt])\n",
    "        idx_lst_str = [str(ele) for ele in idx_lst_]\n",
    "        temp_key = \"+\".join(idx_lst_str)\n",
    "        idx_pkt_table[i][temp_key].add(pkt)\n",
    "\n",
    "# 计算类内哈希冲突\n",
    "for i in range(1, max_priority + 1):\n",
    "    for key in idx_pkt_table[i]:\n",
    "        cluster_inner[i] += len(idx_pkt_table[i][key]) - 1\n",
    "\n",
    "# 计算类间哈希冲突\n",
    "for i in range(1, max_priority + 1):\n",
    "    i_keys = set(idx_pkt_table[i].keys())\n",
    "    for j in range(i + 1, max_priority + 1):\n",
    "        j_keys = set(idx_pkt_table[j].keys())\n",
    "        intersection_keys = i_keys.intersection(j_keys)\n",
    "        for key in intersection_keys:\n",
    "            cluster_outer[i] += len(idx_pkt_table[j][key])\n",
    "            cluster_outer[j] += len(idx_pkt_table[i][key])\n",
    "\n",
    "print(\"类内哈希冲突:\")\n",
    "print(cluster_inner)\n",
    "print(\"类间哈希冲突:\")\n",
    "print(cluster_outer)"
   ]
  }
 ],
 "metadata": {
  "kernelspec": {
   "display_name": "Python 3",
   "language": "python",
   "name": "python3"
  },
  "language_info": {
   "codemirror_mode": {
    "name": "ipython",
    "version": 3
   },
   "file_extension": ".py",
   "mimetype": "text/x-python",
   "name": "python",
   "nbconvert_exporter": "python",
   "pygments_lexer": "ipython3",
   "version": "3.7.4"
  },
  "latex_envs": {
   "LaTeX_envs_menu_present": true,
   "autoclose": false,
   "autocomplete": true,
   "bibliofile": "biblio.bib",
   "cite_by": "apalike",
   "current_citInitial": 1,
   "eqLabelWithNumbers": true,
   "eqNumInitial": 1,
   "hotkeys": {
    "equation": "Ctrl-E",
    "itemize": "Ctrl-I"
   },
   "labels_anchors": false,
   "latex_user_defs": false,
   "report_style_numbering": false,
   "user_envs_cfg": false
  },
  "toc": {
   "base_numbering": 1,
   "nav_menu": {},
   "number_sections": true,
   "sideBar": true,
   "skip_h1_title": false,
   "title_cell": "Table of Contents",
   "title_sidebar": "Contents",
   "toc_cell": false,
   "toc_position": {},
   "toc_section_display": true,
   "toc_window_display": false
  }
 },
 "nbformat": 4,
 "nbformat_minor": 2
}
