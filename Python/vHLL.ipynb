{
 "cells": [
  {
   "cell_type": "code",
   "execution_count": 1,
   "metadata": {
    "ExecuteTime": {
     "end_time": "2024-03-20T12:37:48.659890Z",
     "start_time": "2024-03-20T12:37:48.373872Z"
    }
   },
   "outputs": [],
   "source": [
    "import platform\n",
    "import os\n",
    "import math\n",
    "import pickle\n",
    "import numpy as np\n",
    "import matplotlib.pyplot as plt\n",
    "import mmh3\n",
    "import random\n",
    "from collections import defaultdict\n",
    "from BasicFunc import gen_rand_seed, gen_hash, SpreadCollection, actual_relative_error\n",
    "from BasicFunc import is_valid_ipv4_address, ip_addr_to_int\n",
    "from tqdm import tqdm"
   ]
  },
  {
   "cell_type": "code",
   "execution_count": 2,
   "metadata": {
    "ExecuteTime": {
     "end_time": "2024-03-20T12:37:48.664622Z",
     "start_time": "2024-03-20T12:37:48.661414Z"
    },
    "run_control": {
     "marked": false
    }
   },
   "outputs": [],
   "source": [
    "max_priority = 7\n",
    "mea_T = 0\n",
    "color_table = ['red', 'green', 'blue', 'c', 'pink', 'purple', 'orange', 'crimson', 'skyblue', 'chocolate', 'violet', 'navy']\n",
    "color_lst = [color_table[i] for i in range(max_priority)]\n",
    "high_prior_flows = set([6,7])\n",
    "mediumn_prior_flows = set([])\n",
    "low_prior_flows = set([1,2,3,4,5])"
   ]
  },
  {
   "cell_type": "code",
   "execution_count": 3,
   "metadata": {
    "ExecuteTime": {
     "end_time": "2024-03-20T12:37:48.677788Z",
     "start_time": "2024-03-20T12:37:48.666364Z"
    },
    "run_control": {
     "marked": false
    }
   },
   "outputs": [],
   "source": [
    "class vhll():\n",
    "\n",
    "    def __init__(self, num_phy_registers, num_registers_for_vhll):\n",
    "        self.num_phy_registers = num_phy_registers\n",
    "        self.num_registers_for_vhll = num_registers_for_vhll\n",
    "\n",
    "        distinct_seeds = set()\n",
    "        while len(distinct_seeds) < num_registers_for_vhll:\n",
    "            seed_t = gen_rand_seed()\n",
    "            if seed_t not in distinct_seeds:\n",
    "                distinct_seeds.add(seed_t)\n",
    "        self.seeds = list(distinct_seeds)\n",
    "        self.range_for_seed_index = math.floor(math.log(self.num_registers_for_vhll, 2))\n",
    "        self.hash_seed = gen_rand_seed()\n",
    "\n",
    "        self.phy_registers = [0 for i in range(num_phy_registers)]\n",
    "        self.flows = set()\n",
    "\n",
    "        self.spread_of_all_flows = 0\n",
    "        self.alpha = 0\n",
    "        if self.num_registers_for_vhll == 16:\n",
    "            self.alpha = 0.673\n",
    "        elif self.num_registers_for_vhll == 32:\n",
    "            self.alpha = 0.697\n",
    "        elif self.num_registers_for_vhll == 64:\n",
    "            self.alpha = 0.709\n",
    "        else:\n",
    "            self.alpha = (0.7213 / (1 + (1.079 / self.num_registers_for_vhll)))\n",
    "\n",
    "    def set(self, flow_id, ele_id):\n",
    "        self.flows.add(flow_id)\n",
    "\n",
    "        ele_hash_value = gen_hash(ele_id, self.hash_seed)\n",
    "        p_part = ele_hash_value >> (32 - self.range_for_seed_index)\n",
    "        q_part = ele_hash_value - (p_part << (32 - self.range_for_seed_index))\n",
    "\n",
    "        leftmost_index = 0\n",
    "        while q_part:\n",
    "            leftmost_index += 1\n",
    "            q_part >>= 1\n",
    "        leftmost_index = 32 - self.range_for_seed_index - leftmost_index + 1\n",
    "\n",
    "        index_for_register = gen_hash(flow_id ^ self.seeds[p_part], self.hash_seed) % self.num_phy_registers\n",
    "        self.phy_registers[index_for_register] = max(self.phy_registers[index_for_register], leftmost_index)\n",
    "\n",
    "    def update_para(self):\n",
    "        fraction_zeros = 0\n",
    "        sum_registers = 0\n",
    "        for register in self.phy_registers:\n",
    "            sum_registers += 2 ** (-register)\n",
    "            if register == 0:\n",
    "                fraction_zeros += 1\n",
    "        fraction_zeros = fraction_zeros / self.num_phy_registers\n",
    "        spread_of_all_flows = (0.7213 / (1 + (1.079 / self.num_phy_registers))) * (\n",
    "                    self.num_phy_registers ** 2) / sum_registers\n",
    "        if spread_of_all_flows < 2.5 * self.num_phy_registers:\n",
    "            if fraction_zeros != 0:\n",
    "                self.spread_of_all_flows = - self.num_phy_registers * math.log(fraction_zeros)\n",
    "        elif spread_of_all_flows > 2 ** 32 / 30:\n",
    "            self.spread_of_all_flows = - 2 ** 32 * math.log(1 - spread_of_all_flows / 2 ** 32)\n",
    "\n",
    "    def estimate(self, flow_id):\n",
    "        fraction_zeros_for_vhll = 0\n",
    "        sum_registers_for_vhll = 0\n",
    "        for seed in self.seeds:\n",
    "            index_for_vhll = gen_hash(flow_id ^ seed, self.hash_seed) % self.num_phy_registers\n",
    "            sum_registers_for_vhll += 2 ** (- self.phy_registers[index_for_vhll])\n",
    "            if self.phy_registers[index_for_vhll] == 0:\n",
    "                fraction_zeros_for_vhll += 1\n",
    "        fraction_zeros_for_vhll = fraction_zeros_for_vhll / self.num_registers_for_vhll\n",
    "        spread_of_the_flow = self.alpha * (self.num_registers_for_vhll ** 2) / sum_registers_for_vhll\n",
    "\n",
    "        if spread_of_the_flow < 2.5 * self.num_registers_for_vhll:\n",
    "            if fraction_zeros_for_vhll != 0:\n",
    "                spread_of_the_flow = - self.num_registers_for_vhll * math.log(fraction_zeros_for_vhll) - \\\n",
    "                                 (self.num_registers_for_vhll * self.spread_of_all_flows / self.num_phy_registers)\n",
    "            else:\n",
    "                spread_of_the_flow = spread_of_the_flow - \\\n",
    "                                     (self.num_registers_for_vhll * self.spread_of_all_flows / self.num_phy_registers)\n",
    "        elif spread_of_the_flow > 2 ** 32 / 30:\n",
    "            spread_of_the_flow = - 2 ** 32 * math.log(1 - spread_of_the_flow / 2 ** 32) - \\\n",
    "                                 (self.num_registers_for_vhll * self.spread_of_all_flows / self.num_phy_registers)\n",
    "        else:\n",
    "            spread_of_the_flow = spread_of_the_flow - \\\n",
    "                                 (self.num_registers_for_vhll * self.spread_of_all_flows / self.num_phy_registers)\n",
    "\n",
    "        return spread_of_the_flow\n",
    "\n",
    "    def get_all_spread(self):\n",
    "        self.update_para()\n",
    "        all_spread = {}\n",
    "        for flow_id in tqdm(self.flows):\n",
    "            all_spread[flow_id] = self.estimate(flow_id)\n",
    "            # print(all_spread[flow_id])\n",
    "        return all_spread"
   ]
  },
  {
   "cell_type": "code",
   "execution_count": 4,
   "metadata": {
    "ExecuteTime": {
     "end_time": "2024-03-20T12:37:48.767414Z",
     "start_time": "2024-03-20T12:37:48.679352Z"
    }
   },
   "outputs": [],
   "source": [
    "fo = open(\"./CAIDA 2016/00_7.txt\", \"r\")\n",
    "flows = fo.readlines()\n",
    "fo.close()"
   ]
  },
  {
   "cell_type": "code",
   "execution_count": 5,
   "metadata": {
    "ExecuteTime": {
     "end_time": "2024-03-20T12:37:48.773855Z",
     "start_time": "2024-03-20T12:37:48.768746Z"
    },
    "run_control": {
     "marked": false
    }
   },
   "outputs": [],
   "source": [
    "num_registers_for_vhll = 8\n",
    "num_phy_registers = int(50 * 2 ** 13 / 5)\n",
    "vhll_instance = vhll(num_phy_registers, num_registers_for_vhll)"
   ]
  },
  {
   "cell_type": "code",
   "execution_count": 6,
   "metadata": {
    "ExecuteTime": {
     "end_time": "2024-03-20T12:37:48.777827Z",
     "start_time": "2024-03-20T12:37:48.775362Z"
    }
   },
   "outputs": [
    {
     "name": "stdout",
     "output_type": "stream",
     "text": [
      "81920\n"
     ]
    }
   ],
   "source": [
    "print(num_phy_registers)"
   ]
  },
  {
   "cell_type": "code",
   "execution_count": 7,
   "metadata": {
    "ExecuteTime": {
     "end_time": "2024-03-20T12:37:48.781257Z",
     "start_time": "2024-03-20T12:37:48.779083Z"
    }
   },
   "outputs": [],
   "source": [
    "num_bits_for_register = math.ceil(math.log(32 - math.log(num_registers_for_vhll, 2), 2))"
   ]
  },
  {
   "cell_type": "code",
   "execution_count": 8,
   "metadata": {
    "ExecuteTime": {
     "end_time": "2024-03-20T12:37:53.136491Z",
     "start_time": "2024-03-20T12:37:48.783375Z"
    }
   },
   "outputs": [],
   "source": [
    "sss1 = 12\n",
    "sss2 = 21\n",
    "f_p_table = defaultdict(int)\n",
    "for item in flows:\n",
    "    f, e, p = item.strip().split()\n",
    "    p = int(p)\n",
    "    f_p_table[f] = p\n",
    "    f = mmh3.hash(f, sss1)\n",
    "    e = mmh3.hash(e, sss2)\n",
    "    vhll_instance.set(f, e)"
   ]
  },
  {
   "cell_type": "code",
   "execution_count": 9,
   "metadata": {
    "ExecuteTime": {
     "end_time": "2024-03-20T12:37:58.245425Z",
     "start_time": "2024-03-20T12:37:53.138670Z"
    }
   },
   "outputs": [
    {
     "name": "stderr",
     "output_type": "stream",
     "text": [
      "100%|██████████| 589709/589709 [00:05<00:00, 117511.17it/s]\n"
     ]
    }
   ],
   "source": [
    "estimation = vhll_instance.get_all_spread()"
   ]
  },
  {
   "cell_type": "code",
   "execution_count": 10,
   "metadata": {
    "ExecuteTime": {
     "end_time": "2024-03-20T12:37:59.590951Z",
     "start_time": "2024-03-20T12:37:58.247263Z"
    }
   },
   "outputs": [],
   "source": [
    "flows_info = defaultdict(list)\n",
    "\n",
    "for item in flows:\n",
    "    f, e, p = item.strip().split()\n",
    "    flows_info[f].append(e)"
   ]
  },
  {
   "cell_type": "code",
   "execution_count": 11,
   "metadata": {
    "ExecuteTime": {
     "end_time": "2024-03-20T12:38:00.152803Z",
     "start_time": "2024-03-20T12:37:59.593717Z"
    }
   },
   "outputs": [],
   "source": [
    "spread_info = dict()\n",
    "\n",
    "for f in flows_info.keys():\n",
    "    spread_info[f] = len(set(flows_info[f]))"
   ]
  },
  {
   "cell_type": "code",
   "execution_count": 12,
   "metadata": {
    "ExecuteTime": {
     "end_time": "2024-03-20T12:38:05.230264Z",
     "start_time": "2024-03-20T12:38:00.154929Z"
    },
    "run_control": {
     "marked": true
    }
   },
   "outputs": [
    {
     "name": "stdout",
     "output_type": "stream",
     "text": [
      "各个优先级流的are:\n",
      "{'low': 68.53489633325862, 'med': None, 'high': 68.4098233148793}\n",
      "[Message] 第1优先级流的are信息如下:\n",
      "  第0个区间内的are为70.44579070558396\n",
      "  第1个区间内的are为13.209063228204272\n",
      "  第2个区间内的are为1.372718475361309\n",
      "  第3个区间内的are为None\n",
      "  第4个区间内的are为None\n",
      "  第5个区间内的are为None\n",
      "  第6个区间内的are为None\n",
      "[Message] 第2优先级流的are信息如下:\n",
      "  第0个区间内的are为70.49026179243945\n",
      "  第1个区间内的are为13.303036477871228\n",
      "  第2个区间内的are为1.4385161359576812\n",
      "  第3个区间内的are为0.17136969303315897\n",
      "  第4个区间内的are为0.2116465281064618\n",
      "  第5个区间内的are为None\n",
      "  第6个区间内的are为None\n",
      "[Message] 第3优先级流的are信息如下:\n",
      "  第0个区间内的are为70.65709171565626\n",
      "  第1个区间内的are为13.354527789288303\n",
      "  第2个区间内的are为1.3073789780413534\n",
      "  第3个区间内的are为0.2951849629482283\n",
      "  第4个区间内的are为0.3589989651969224\n",
      "  第5个区间内的are为None\n",
      "  第6个区间内的are为None\n",
      "[Message] 第4优先级流的are信息如下:\n",
      "  第0个区间内的are为70.55155589523247\n",
      "  第1个区间内的are为13.164858661834813\n",
      "  第2个区间内的are为1.3261071386469239\n",
      "  第3个区间内的are为0.7153101897948121\n",
      "  第4个区间内的are为None\n",
      "  第5个区间内的are为None\n",
      "  第6个区间内的are为None\n",
      "[Message] 第5优先级流的are信息如下:\n",
      "  第0个区间内的are为70.43045217580165\n",
      "  第1个区间内的are为13.34641358447077\n",
      "  第2个区间内的are为1.4856490031758391\n",
      "  第3个区间内的are为0.5540479949414252\n",
      "  第4个区间内的are为0.11488802012073616\n",
      "  第5个区间内的are为None\n",
      "  第6个区间内的are为None\n",
      "[Message] 第6优先级流的are信息如下:\n",
      "  第0个区间内的are为70.49271842759441\n",
      "  第1个区间内的are为13.396299590422235\n",
      "  第2个区间内的are为1.290192982055288\n",
      "  第3个区间内的are为0.2896193204667655\n",
      "  第4个区间内的are为None\n",
      "  第5个区间内的are为None\n",
      "  第6个区间内的are为None\n",
      "[Message] 第7优先级流的are信息如下:\n",
      "  第0个区间内的are为70.36138013615819\n",
      "  第1个区间内的are为13.120754364812857\n",
      "  第2个区间内的are为1.2118125317972968\n",
      "  第3个区间内的are为0.24673292855730358\n",
      "  第4个区间内的are为0.5174279241160342\n",
      "  第5个区间内的are为None\n",
      "  第6个区间内的are为None\n",
      "{1: 68.4629248456017, 2: 68.57416104818124, 3: 68.68979585403375, 4: 68.52628518909152, 5: 68.42111019610635, 6: 68.49532225640189, 7: 68.33452938961193}\n"
     ]
    }
   ],
   "source": [
    "x_dict = {}\n",
    "y_dict = {}\n",
    "x = []\n",
    "y = []\n",
    "range_count_dict = {}\n",
    "range_are_dict = {}\n",
    "are_dict = {}\n",
    "are_count_dict = {}\n",
    "for i in range(1, max_priority + 1):\n",
    "    x_dict[i] = []\n",
    "    y_dict[i] = []\n",
    "    are_dict[i] = 0\n",
    "    are_count_dict[i] = 0\n",
    "    range_count_dict[i] = {}\n",
    "    range_are_dict[i] = {}\n",
    "    for j in range(0, 7, 1):\n",
    "        range_count_dict[i][j] = 0\n",
    "        range_are_dict[i][j] = 0\n",
    "class_are_dict = {'low':0, 'med':0, 'high':0}\n",
    "flow_count_p = {'low':0, 'med':0, 'high':0}\n",
    "for f in flows_info.keys():\n",
    "    if spread_info[f] >= mea_T:\n",
    "        temp_v = abs(spread_info[f] - estimation[mmh3.hash(f, sss1)]) / spread_info[f]\n",
    "        x.append(spread_info[f])\n",
    "        y.append(estimation[mmh3.hash(f,sss1)])\n",
    "        x_dict[f_p_table[f]].append(spread_info[f])\n",
    "        range_count_dict[f_p_table[f]][int(round(np.log10(spread_info[f])))] += 1\n",
    "        y_dict[f_p_table[f]].append(estimation[mmh3.hash(f, sss1)])\n",
    "        range_are_dict[f_p_table[f]][int(round(np.log10(spread_info[f])))] += temp_v\n",
    "        are_count_dict[f_p_table[f]] += 1\n",
    "        are_dict[f_p_table[f]] += temp_v\n",
    "        if f_p_table[f] in high_prior_flows:\n",
    "            class_are_dict['high'] += temp_v\n",
    "            flow_count_p['high'] += 1\n",
    "        elif f_p_table[f] in mediumn_prior_flows:\n",
    "            class_are_dict['med'] += temp_v\n",
    "            flow_count_p['med'] += 1\n",
    "        elif f_p_table[f] in low_prior_flows:\n",
    "            class_are_dict['low'] += temp_v\n",
    "            flow_count_p['low'] += 1\n",
    "for i in range(1, max_priority + 1):\n",
    "    for j in range(max_priority):\n",
    "        range_are_dict[i][j] = range_are_dict[i][j] / range_count_dict[i][j] if range_count_dict[i][j] != 0 else None\n",
    "class_are_dict['high'] = class_are_dict['high'] / flow_count_p['high'] if flow_count_p['high'] != 0 else None\n",
    "class_are_dict['med'] = class_are_dict['med'] / flow_count_p['med'] if flow_count_p['med'] != 0 else None\n",
    "class_are_dict['low'] = class_are_dict['low'] / flow_count_p['low'] if flow_count_p['low'] != 0 else None\n",
    "for label in x_dict:\n",
    "    x_dict[label] = np.array(x_dict[label])\n",
    "    y_dict[label] = np.maximum(1, np.array(y_dict[label]))\n",
    "x = np.array(x)\n",
    "y = np.array(y)\n",
    "print(\"各个优先级流的are:\")\n",
    "print(class_are_dict)\n",
    "for i in range(1, max_priority + 1):\n",
    "    print(\"[Message] 第{}优先级流的are信息如下:\".format(i))\n",
    "    for j in range(0, 7, 1):\n",
    "        if range_are_dict[i][j] != 0:\n",
    "            print(\"  第{}个区间内的are为{}\".format(j, range_are_dict[i][j]))\n",
    "for i in range(1, max_priority + 1):\n",
    "    are_dict[i] = are_dict[i] / are_count_dict[i] if are_count_dict[i] != 0 else None\n",
    "print(are_dict)"
   ]
  },
  {
   "cell_type": "code",
   "execution_count": 13,
   "metadata": {
    "ExecuteTime": {
     "end_time": "2024-03-20T12:38:09.272957Z",
     "start_time": "2024-03-20T12:38:05.232009Z"
    }
   },
   "outputs": [
    {
     "data": {
      "image/png": "[encoded data removed]",
      "text/plain": [
       "<Figure size 640x480 with 1 Axes>"
      ]
     },
     "metadata": {},
     "output_type": "display_data"
    }
   ],
   "source": [
    "x1 = np.arange(0, 7,1)\n",
    "y1 = x1\n",
    "for i in range(1, max_priority + 1):\n",
    "    plt.plot(np.log10(x_dict[i]), np.log10(y_dict[i]), \"*\", color = color_lst[i - 1], label = str(i) + \"-priority flow\")\n",
    "plt.plot(x1, y1)\n",
    "plt.legend()\n",
    "plt.xlabel(\"Real spreads\")\n",
    "plt.ylabel(\"Estimated spreads\")\n",
    "plt.tight_layout()\n",
    "plt.savefig(\"vHLL.jpg\")\n",
    "plt.show()"
   ]
  },
  {
   "cell_type": "code",
   "execution_count": 14,
   "metadata": {
    "ExecuteTime": {
     "end_time": "2024-03-20T12:38:09.283482Z",
     "start_time": "2024-03-20T12:38:09.274482Z"
    }
   },
   "outputs": [
    {
     "data": {
      "text/plain": [
       "68.49724972373009"
      ]
     },
     "execution_count": 14,
     "metadata": {},
     "output_type": "execute_result"
    }
   ],
   "source": [
    "np.mean(abs((x-y)/x))"
   ]
  },
  {
   "cell_type": "code",
   "execution_count": 15,
   "metadata": {
    "ExecuteTime": {
     "end_time": "2024-03-20T12:38:10.757520Z",
     "start_time": "2024-03-20T12:38:09.284698Z"
    }
   },
   "outputs": [
    {
     "name": "stdout",
     "output_type": "stream",
     "text": [
      "69.49725308263724\n"
     ]
    }
   ],
   "source": [
    "ratio_ = 0.0\n",
    "for i in range(len(x)):\n",
    "    ratio_ += max(x[i] / y[i], y[i] / x[i])\n",
    "print(ratio_ / len(x))"
   ]
  },
  {
   "cell_type": "code",
   "execution_count": 16,
   "metadata": {
    "ExecuteTime": {
     "end_time": "2024-03-20T12:38:10.764031Z",
     "start_time": "2024-03-20T12:38:10.759215Z"
    }
   },
   "outputs": [
    {
     "data": {
      "text/plain": [
       "75.98632138368431"
      ]
     },
     "execution_count": 16,
     "metadata": {},
     "output_type": "execute_result"
    }
   ],
   "source": [
    "np.mean(abs(x-y))"
   ]
  },
  {
   "cell_type": "code",
   "execution_count": 17,
   "metadata": {
    "ExecuteTime": {
     "end_time": "2024-03-20T12:38:11.765888Z",
     "start_time": "2024-03-20T12:38:10.765101Z"
    }
   },
   "outputs": [
    {
     "name": "stdout",
     "output_type": "stream",
     "text": [
      "13246\n"
     ]
    }
   ],
   "source": [
    "data = list()\n",
    "\n",
    "for i in range(len(x)):\n",
    "    data.append(str(x[i]) + \" \" + str(y[i]) + \"\\n\")\n",
    "    \n",
    "data = list(set(data))\n",
    "print(len(data))"
   ]
  }
 ],
 "metadata": {
  "kernelspec": {
   "display_name": "Python 3",
   "language": "python",
   "name": "python3"
  },
  "language_info": {
   "codemirror_mode": {
    "name": "ipython",
    "version": 3
   },
   "file_extension": ".py",
   "mimetype": "text/x-python",
   "name": "python",
   "nbconvert_exporter": "python",
   "pygments_lexer": "ipython3",
   "version": "3.7.4"
  },
  "latex_envs": {
   "LaTeX_envs_menu_present": true,
   "autoclose": false,
   "autocomplete": true,
   "bibliofile": "biblio.bib",
   "cite_by": "apalike",
   "current_citInitial": 1,
   "eqLabelWithNumbers": true,
   "eqNumInitial": 1,
   "hotkeys": {
    "equation": "Ctrl-E",
    "itemize": "Ctrl-I"
   },
   "labels_anchors": false,
   "latex_user_defs": false,
   "report_style_numbering": false,
   "user_envs_cfg": false
  },
  "toc": {
   "base_numbering": 1,
   "nav_menu": {},
   "number_sections": true,
   "sideBar": true,
   "skip_h1_title": false,
   "title_cell": "Table of Contents",
   "title_sidebar": "Contents",
   "toc_cell": false,
   "toc_position": {},
   "toc_section_display": true,
   "toc_window_display": false
  }
 },
 "nbformat": 4,
 "nbformat_minor": 2
}
