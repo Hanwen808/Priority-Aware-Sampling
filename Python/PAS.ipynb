{
 "cells": [
  {
   "cell_type": "code",
   "execution_count": 1,
   "metadata": {
    "ExecuteTime": {
     "end_time": "2024-03-20T12:38:39.749740Z",
     "start_time": "2024-03-20T12:38:39.327061Z"
    }
   },
   "outputs": [],
   "source": [
    "import mmh3\n",
    "import numpy as np\n",
    "import pandas as pd\n",
    "from tqdm import tqdm\n",
    "from collections import defaultdict\n",
    "import math\n",
    "import matplotlib.pyplot as plt"
   ]
  },
  {
   "cell_type": "code",
   "execution_count": 2,
   "metadata": {
    "ExecuteTime": {
     "end_time": "2024-03-20T12:38:39.757278Z",
     "start_time": "2024-03-20T12:38:39.751404Z"
    }
   },
   "outputs": [
    {
     "name": "stdout",
     "output_type": "stream",
     "text": [
      "总共: 136533 个寄存器.\n"
     ]
    }
   ],
   "source": [
    "max_priority = 7\n",
    "color_table = ['red', 'green', 'blue', 'c', 'pink', 'purple', 'orange', 'crimson', 'skyblue', 'chocolate', 'violet', 'navy']\n",
    "color_lst = [color_table[i] for i in range(max_priority)]\n",
    "mea_T = 0\n",
    "m = 50 * 1024 * 8 // 3\n",
    "print(\"总共:\", m, \"个寄存器.\")\n",
    "pre_p_lst = [0.15, 0.173, 0.21, 0.261, 0.341, 0.502, 0.913]\n",
    "post_p_lst = [0.367, 0.367, 0.367, 0.367, 0.367, 0.367, 0.367]\n",
    "prob_lst = [round(pre_p_lst[i],3) * round(post_p_lst[i],3) - 0.001 for i in range(max_priority)]\n",
    "#暴力搜索出来的最优解[0.01, 0.225, 0.356, 0.387, 0.377, 0.351, 0.321]\n",
    "high_priority_flows = set([6,7])\n",
    "med_priority_flows = set([])\n",
    "low_priority_flows = set([1,2,3,4,5])"
   ]
  },
  {
   "cell_type": "code",
   "execution_count": 3,
   "metadata": {
    "ExecuteTime": {
     "end_time": "2024-03-20T12:38:39.762428Z",
     "start_time": "2024-03-20T12:38:39.759396Z"
    }
   },
   "outputs": [],
   "source": [
    "map_dict = {6: 6, 7 : 7, 4 : 4, 5 : 5, 1 : 1, 2 : 2, 3 : 3}"
   ]
  },
  {
   "cell_type": "code",
   "execution_count": 4,
   "metadata": {
    "ExecuteTime": {
     "end_time": "2024-03-20T12:38:39.788963Z",
     "start_time": "2024-03-20T12:38:39.764266Z"
    }
   },
   "outputs": [],
   "source": [
    "def judge(a, b):\n",
    "    flag = False\n",
    "    if a in low_priority_flows:\n",
    "        if b in med_priority_flows:\n",
    "            flag = True\n",
    "        elif b in high_priority_flows:\n",
    "            flag = True\n",
    "    elif a in med_priority_flows:\n",
    "        if b in high_priority_flows:\n",
    "            flag = True\n",
    "    elif a == 0:\n",
    "        flag = True\n",
    "    return flag\n",
    "# 定义高优先级占所有优先级的20%，对于10个优先级，9、10优先级流为高优先级流，剩余优先级流为低优先级流\n",
    "class RegFilter:\n",
    "    '''\n",
    "    :params\n",
    "      (1) m: 寄存器数目\n",
    "      (2) prob_lst: 不同优先级流的采样频率\n",
    "      (3) 最大优先级数目\n",
    "    '''\n",
    "    def __init__(self, m, pre_lst, post_lst, max_prior):\n",
    "        self.pre_sampling_lst = pre_lst\n",
    "        self.pre_sample_seed = 21321\n",
    "        self.sample_seed = 98123\n",
    "        self.hash_seed = 13123\n",
    "        self.m = m\n",
    "        self.max_prior = max_prior\n",
    "        self.pre_p = pre_lst\n",
    "        self.post_p = post_lst\n",
    "        self.prob_lst = [round(self.pre_p[i] * self.post_p[i] - 0.0001, 3) for i in range(max_priority)]\n",
    "        print(self.prob_lst)\n",
    "        self.R = np.zeros(shape = (self.m, ), dtype = np.int8)\n",
    "        self.c = np.zeros(shape = (self.max_prior, ), dtype = np.int32)\n",
    "        self.are = 0\n",
    "        self.flow_count = 0\n",
    "        self.are_dict = {}\n",
    "        self.fine_are_dict = {}\n",
    "        self.class_are_dict = {'low':0, 'med':0, 'high':0}\n",
    "        self.real_set_dict = {}\n",
    "        self.flow_count_dict = {}\n",
    "        self.flow_count_p = {'low':0, 'med':0, 'high':0}\n",
    "        self.real_dict = {}\n",
    "        self.pred_dict = {}\n",
    "        self.hash_table = {}\n",
    "        self.downloads = 0\n",
    "        for i in range(1, max_priority + 1):\n",
    "            self.flow_count_dict[i] = 0\n",
    "        self.hash_collisions_for_highest = defaultdict(set) # 仅仅统计最高优先级的类内哈希冲突\n",
    "        for i in range(1, self.max_prior + 1): # 默认优先级从1开始\n",
    "            self.are_dict[i] = 0\n",
    "            self.fine_are_dict[i] = {0:0 ,1:0, 2:0, 3:0, 4:0, 5:0, 6:0, 7:0}\n",
    "            self.real_dict[i] = defaultdict(int)\n",
    "            self.pred_dict[i] = defaultdict(int)\n",
    "            self.real_set_dict[i] = defaultdict(set)\n",
    "            self.hash_table[i] = defaultdict(int)\n",
    "        \n",
    "    def update(self, src, dst, p):\n",
    "        p_new = map_dict[p]\n",
    "        pre_sample_idx = mmh3.hash(src + dst, seed = self.pre_sample_seed) % 0xffffffff\n",
    "        if pre_sample_idx > self.pre_sampling_lst[p_new - 1] * 0xffffffff:\n",
    "            return\n",
    "        hash_idx = mmh3.hash(src + dst, seed = self.hash_seed) % self.m\n",
    "        if self.R[hash_idx] < p_new: #if judge(self.R[hash_idx], p):\n",
    "            if self.R[hash_idx] != 0:\n",
    "                self.c[self.R[hash_idx] - 1] -= 1 \n",
    "            self.R[hash_idx] = p_new\n",
    "            self.c[p_new - 1] += 1\n",
    "            sample_idx = mmh3.hash(src + dst, seed = self.sample_seed) % 0xffffffff\n",
    "            if sample_idx <= self.post_p[p - 1] * 0xffffffff:\n",
    "                self.hash_table[p][src] += 1\n",
    "                self.downloads += 1\n",
    "            sum_ = 0\n",
    "            for j in range(p_new - 1, self.max_prior): # 原先为max_prior\n",
    "                sum_ += self.c[j]\n",
    "            self.post_p[p - 1] = (self.m * self.prob_lst[p - 1]) / (self.m - sum_) / self.pre_sampling_lst[p_new - 1]\n",
    "        elif self.R[hash_idx] == p_new:\n",
    "            if p == max_priority:\n",
    "                self.hash_collisions_for_highest[hash_idx].add(src + \" + \" + dst)\n",
    "    \n",
    "    def estimate(self, src):\n",
    "        for i in range(1, self.max_prior + 1):\n",
    "            if src in self.hash_table[i]:\n",
    "                return int(self.hash_table[i][src] / self.prob_lst[i - 1])\n",
    "        else:\n",
    "            return 0\n",
    "    \n",
    "    def run(self, filename):\n",
    "        N = set([])\n",
    "        f = open(filename, 'r')\n",
    "        data = f.readlines()\n",
    "        print(\"[Message] 实验数据导入完毕\")\n",
    "        for pkt in tqdm(data):\n",
    "            src, dst, p = pkt.split()\n",
    "            p = int(p)\n",
    "            N.add(src + \"+\" + dst)\n",
    "            self.real_set_dict[p][src].add(dst)\n",
    "            self.update(src, dst, p)\n",
    "        print(\"[Message] 更新数据完毕\")\n",
    "        for i in range(1, self.max_prior + 1):\n",
    "            for key in tqdm(self.real_set_dict[i]):\n",
    "                # 【注意！任务改变，需要估计过阈值的流】\n",
    "                if len(self.real_set_dict[i][key]) >= mea_T:\n",
    "                    self.real_dict[i][key] = len(self.real_set_dict[i][key])\n",
    "                    self.pred_dict[i][key] = self.estimate(key)\n",
    "        print(\"[Message] 估计阶段完成\")\n",
    "        print(\"总共有{}个不同元素.\".format(len(N)))\n",
    "        f.close()\n",
    "    \n",
    "    def draw(self):\n",
    "        x = np.arange(math.log10(mea_T) if mea_T != 0 else 0, 7, 1)\n",
    "        high_flow_count = 0\n",
    "        low_flow_count = 0\n",
    "        med_flow_count = 0\n",
    "        for i in range(1, self.max_prior + 1):\n",
    "            x_log, y_log = [], []\n",
    "            # 临时记录该优先级流下每个基数范围内的流数目\n",
    "            temp_range_count = defaultdict(int)\n",
    "            for key in self.real_dict[i]:\n",
    "                temp_v = abs(self.pred_dict[i][key] - self.real_dict[i][key]) / self.real_dict[i][key]\n",
    "                self.are_dict[i] += temp_v\n",
    "                self.are += temp_v\n",
    "                self.flow_count += 1\n",
    "                temp_range_count[int(round(math.log10(self.real_dict[i][key])))] += 1\n",
    "                self.fine_are_dict[i][int(round(math.log10(self.real_dict[i][key])))] += temp_v\n",
    "                self.flow_count_dict[i] += 1\n",
    "                if i in high_priority_flows:\n",
    "                    self.class_are_dict['high'] += temp_v\n",
    "                    self.flow_count_p['high'] += 1\n",
    "                elif i in med_priority_flows:\n",
    "                    self.class_are_dict['med'] += temp_v\n",
    "                    self.flow_count_p['med'] += 1\n",
    "                elif i in low_priority_flows:\n",
    "                    self.class_are_dict['low'] += temp_v\n",
    "                    self.flow_count_p['low'] += 1\n",
    "                x_log.append(self.real_dict[i][key])\n",
    "                y_log.append(self.pred_dict[i][key])\n",
    "            for j in range(0, 7):\n",
    "                if temp_range_count[j] == 0:\n",
    "                    self.fine_are_dict[i][j] = 0\n",
    "                else:\n",
    "                    self.fine_are_dict[i][j] = self.fine_are_dict[i][j] / temp_range_count[j]\n",
    "            x_log = np.log10(x_log)\n",
    "            y_log = np.log10(y_log)\n",
    "            plt.plot(x_log, y_log, '*', color = color_lst[i - 1], label = str(i) + \"-priority flow\")\n",
    "        for i in range(1, max_priority + 1):\n",
    "            self.are_dict[i] = self.are_dict[i] / self.flow_count_dict[i] if self.flow_count_dict[i] != 0 else None\n",
    "        self.class_are_dict['high'] = self.class_are_dict['high'] / self.flow_count_p['high'] if self.flow_count_p['high'] != 0 else None\n",
    "        self.class_are_dict['med'] = self.class_are_dict['med'] / self.flow_count_p['med'] if self.flow_count_p['med'] != 0 else None\n",
    "        self.class_are_dict['low'] = self.class_are_dict['low'] / self.flow_count_p['low'] if self.flow_count_p['low'] != 0 else None\n",
    "        plt.plot(x, x)\n",
    "        plt.legend()\n",
    "        plt.xlabel(\"Real spreads\")\n",
    "        plt.ylabel(\"Estimated spreads\")\n",
    "        plt.tight_layout()\n",
    "        plt.savefig(\"Regfilter_100KB.jpg\")\n",
    "        plt.show()\n",
    "        print(\"total are is \", self.are / self.flow_count)"
   ]
  },
  {
   "cell_type": "code",
   "execution_count": 5,
   "metadata": {
    "ExecuteTime": {
     "end_time": "2024-03-20T12:38:49.066229Z",
     "start_time": "2024-03-20T12:38:39.790292Z"
    }
   },
   "outputs": [
    {
     "name": "stderr",
     "output_type": "stream",
     "text": [
      "\r",
      "  0%|          | 0/907463 [00:00<?, ?it/s]"
     ]
    },
    {
     "name": "stdout",
     "output_type": "stream",
     "text": [
      "[0.055, 0.063, 0.077, 0.096, 0.125, 0.184, 0.335]\n",
      "总共占用存储空间49.9998779296875KB, 共409599比特.\n",
      "[Message] 实验数据导入完毕\n"
     ]
    },
    {
     "name": "stderr",
     "output_type": "stream",
     "text": [
      "100%|██████████| 907463/907463 [00:07<00:00, 115473.61it/s]\n",
      "100%|██████████| 82234/82234 [00:00<00:00, 458699.36it/s]\n",
      "  0%|          | 0/82128 [00:00<?, ?it/s]"
     ]
    },
    {
     "name": "stdout",
     "output_type": "stream",
     "text": [
      "[Message] 更新数据完毕\n"
     ]
    },
    {
     "name": "stderr",
     "output_type": "stream",
     "text": [
      "100%|██████████| 82128/82128 [00:00<00:00, 497129.24it/s]\n",
      "100%|██████████| 82773/82773 [00:00<00:00, 500978.54it/s]\n",
      "100%|██████████| 82318/82318 [00:00<00:00, 499000.91it/s]\n",
      "100%|██████████| 82777/82777 [00:00<00:00, 498769.43it/s]\n",
      "100%|██████████| 83122/83122 [00:00<00:00, 493039.30it/s]\n",
      "100%|██████████| 94388/94388 [00:00<00:00, 457963.94it/s]"
     ]
    },
    {
     "name": "stdout",
     "output_type": "stream",
     "text": [
      "[Message] 估计阶段完成\n",
      "总共有907463个不同元素.\n",
      "regfilter总共下载113414个元素.\n"
     ]
    },
    {
     "name": "stderr",
     "output_type": "stream",
     "text": [
      "\n"
     ]
    }
   ],
   "source": [
    "bit = math.ceil(math.log2(max_priority + 1))\n",
    "regfilter = RegFilter(m, pre_p_lst, post_p_lst, max_priority)\n",
    "print(\"总共占用存储空间{}KB, 共{}比特.\".format(m * bit / 8 / 1024, m * bit))\n",
    "regfilter.run(\"./CAIDA 2016/00_7.txt\")\n",
    "#regfilter.run(\"./CAIDA 2016/00_7.txt\")\n",
    "print(\"regfilter总共下载{}个元素.\".format(regfilter.downloads))"
   ]
  },
  {
   "cell_type": "code",
   "execution_count": 6,
   "metadata": {
    "ExecuteTime": {
     "end_time": "2024-03-20T12:38:51.698188Z",
     "start_time": "2024-03-20T12:38:49.067923Z"
    }
   },
   "outputs": [
    {
     "name": "stderr",
     "output_type": "stream",
     "text": [
      "/home/tmp/anaconda3/lib/python3.7/site-packages/ipykernel_launcher.py:144: RuntimeWarning: divide by zero encountered in log10\n",
      "/home/tmp/anaconda3/lib/python3.7/site-packages/ipykernel_launcher.py:144: RuntimeWarning: divide by zero encountered in log10\n",
      "/home/tmp/anaconda3/lib/python3.7/site-packages/ipykernel_launcher.py:144: RuntimeWarning: divide by zero encountered in log10\n",
      "/home/tmp/anaconda3/lib/python3.7/site-packages/ipykernel_launcher.py:144: RuntimeWarning: divide by zero encountered in log10\n",
      "/home/tmp/anaconda3/lib/python3.7/site-packages/ipykernel_launcher.py:144: RuntimeWarning: divide by zero encountered in log10\n",
      "/home/tmp/anaconda3/lib/python3.7/site-packages/ipykernel_launcher.py:144: RuntimeWarning: divide by zero encountered in log10\n",
      "/home/tmp/anaconda3/lib/python3.7/site-packages/ipykernel_launcher.py:144: RuntimeWarning: divide by zero encountered in log10\n"
     ]
    },
    {
     "data": {
      "image/png": "[encoded data removed]",
      "text/plain": [
       "<Figure size 640x480 with 1 Axes>"
      ]
     },
     "metadata": {},
     "output_type": "display_data"
    },
    {
     "name": "stdout",
     "output_type": "stream",
     "text": [
      "total are is  1.4557053925458319\n"
     ]
    }
   ],
   "source": [
    "regfilter.draw()"
   ]
  },
  {
   "cell_type": "code",
   "execution_count": 7,
   "metadata": {
    "ExecuteTime": {
     "end_time": "2024-03-20T12:38:51.709489Z",
     "start_time": "2024-03-20T12:38:51.699593Z"
    }
   },
   "outputs": [
    {
     "name": "stdout",
     "output_type": "stream",
     "text": [
      "{1: 1.5932370977348527, 2: 1.5611310244819858, 3: 1.556466278736752, 4: 1.5849441829798365, 5: 1.5938704531115282, 6: 1.444863128344216, 7: 0.9314565827266841}\n",
      "[Message] 更细粒度的are指标如下所示\n",
      "[Message] 第1优先级流的are信息如下:\n",
      "  第0个区间内的are为1.607858447201058\n",
      "  第1个区间内的are为1.2102121491584068\n",
      "  第2个区间内的are为0.4036426195624708\n",
      "[Message] 第2优先级流的are信息如下:\n",
      "  第0个区间内的are为1.5754056720616327\n",
      "  第1个区间内的are为1.1687533936345644\n",
      "  第2个区间内的are为0.49886618629893453\n",
      "  第3个区间内的are为0.32556956459379627\n",
      "  第4个区间内的are为0.3410252315554136\n",
      "[Message] 第3优先级流的are信息如下:\n",
      "  第0个区间内的are为1.5752203350259733\n",
      "  第1个区间内的are为1.050196992032529\n",
      "  第2个区间内的are为0.3823618661778495\n",
      "  第3个区间内的are为0.27425373134328357\n",
      "  第4个区间内的are为0.3279662641364769\n",
      "[Message] 第4优先级流的are信息如下:\n",
      "  第0个区间内的are为1.6075666784161662\n",
      "  第1个区间内的are为0.9879257539894243\n",
      "  第2个区间内的are为0.3095525573391584\n",
      "  第3个区间内的are为0.15767352231375018\n",
      "[Message] 第5优先级流的are信息如下:\n",
      "  第0个区间内的are为1.6193915572412734\n",
      "  第1个区间内的are为0.9127743996105699\n",
      "  第2个区间内的are为0.2983846678678551\n",
      "  第3个区间内的are为0.04936014625228519\n",
      "  第4个区间内的are为0.15098761298962168\n",
      "[Message] 第6优先级流的are信息如下:\n",
      "  第0个区间内的are为1.4735662412337576\n",
      "  第1个区间内的are为0.6610901456196023\n",
      "  第2个区间内的are为0.21437341149396477\n",
      "  第3个区间内的are为0.07435960497937871\n",
      "[Message] 第7优先级流的are信息如下:\n",
      "  第0个区间内的are为0.9483272940229124\n",
      "  第1个区间内的are为0.4798850017806653\n",
      "  第2个区间内的are为0.15634100198690568\n",
      "  第3个区间内的are为0.04950741525379306\n",
      "  第4个区间内的are为0.013607156356305909\n",
      "下面以后两个优先级流为高优先级流，显示高低优先级流的基数估计ARE:\n",
      "{'low': 1.5779284897153947, 'med': None, 'high': 1.1718677082115878}\n"
     ]
    }
   ],
   "source": [
    "print(regfilter.are_dict)\n",
    "print(\"[Message] 更细粒度的are指标如下所示\")\n",
    "for i in range(1, max_priority + 1):\n",
    "    print(\"[Message] 第{}优先级流的are信息如下:\".format(i))\n",
    "    for j in range(0, 7, 1):\n",
    "        if regfilter.fine_are_dict[i][j] != 0:\n",
    "            print(\"  第{}个区间内的are为{}\".format(j, regfilter.fine_are_dict[i][j]))\n",
    "print(\"下面以后两个优先级流为高优先级流，显示高低优先级流的基数估计ARE:\")\n",
    "print(regfilter.class_are_dict)"
   ]
  },
  {
   "cell_type": "code",
   "execution_count": 8,
   "metadata": {
    "ExecuteTime": {
     "end_time": "2024-03-20T12:38:51.715406Z",
     "start_time": "2024-03-20T12:38:51.710929Z"
    }
   },
   "outputs": [
    {
     "name": "stdout",
     "output_type": "stream",
     "text": [
      "值大于等于1的寄存器占所有寄存器数组的0.9182908161396879\n",
      "值大于等于2的寄存器占所有寄存器数组的0.9068283858114888\n",
      "值大于等于3的寄存器占所有寄存器数组的0.8894406480484571\n",
      "值大于等于4的寄存器占所有寄存器数组的0.8656515274695494\n",
      "值大于等于5的寄存器占所有寄存器数组的0.8292647198845701\n",
      "值大于等于6的寄存器占所有寄存器数组的0.7648114375279237\n",
      "值大于等于7的寄存器占所有寄存器数组的0.6319131638504977\n"
     ]
    }
   ],
   "source": [
    "for idx, c in enumerate(regfilter.c):\n",
    "    sum_ = 0\n",
    "    for j in range(idx, len(regfilter.c)):\n",
    "        sum_ += regfilter.c[j]\n",
    "    print(\"值大于等于{}的寄存器占所有寄存器数组的{}\".format(idx + 1, sum_ / regfilter.m))"
   ]
  },
  {
   "cell_type": "code",
   "execution_count": 9,
   "metadata": {
    "ExecuteTime": {
     "end_time": "2024-03-20T12:38:51.735605Z",
     "start_time": "2024-03-20T12:38:51.717613Z"
    },
    "scrolled": true
   },
   "outputs": [
    {
     "name": "stdout",
     "output_type": "stream",
     "text": [
      "最高优先级哈希冲突: 13926\n"
     ]
    }
   ],
   "source": [
    "mdict = regfilter.hash_collisions_for_highest\n",
    "hash_times = 0\n",
    "for idx in mdict:\n",
    "    hash_times += len(mdict[idx]) - 1\n",
    "print(\"最高优先级哈希冲突: {}\".format(hash_times))"
   ]
  }
 ],
 "metadata": {
  "kernelspec": {
   "display_name": "Python 3",
   "language": "python",
   "name": "python3"
  },
  "language_info": {
   "codemirror_mode": {
    "name": "ipython",
    "version": 3
   },
   "file_extension": ".py",
   "mimetype": "text/x-python",
   "name": "python",
   "nbconvert_exporter": "python",
   "pygments_lexer": "ipython3",
   "version": "3.7.4"
  },
  "latex_envs": {
   "LaTeX_envs_menu_present": true,
   "autoclose": false,
   "autocomplete": true,
   "bibliofile": "biblio.bib",
   "cite_by": "apalike",
   "current_citInitial": 1,
   "eqLabelWithNumbers": true,
   "eqNumInitial": 1,
   "hotkeys": {
    "equation": "Ctrl-E",
    "itemize": "Ctrl-I"
   },
   "labels_anchors": false,
   "latex_user_defs": false,
   "report_style_numbering": false,
   "user_envs_cfg": false
  },
  "toc": {
   "base_numbering": 1,
   "nav_menu": {},
   "number_sections": true,
   "sideBar": true,
   "skip_h1_title": false,
   "title_cell": "Table of Contents",
   "title_sidebar": "Contents",
   "toc_cell": false,
   "toc_position": {},
   "toc_section_display": true,
   "toc_window_display": false
  }
 },
 "nbformat": 4,
 "nbformat_minor": 2
}
